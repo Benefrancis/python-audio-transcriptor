{
 "cells": [
  {
   "cell_type": "code",
   "execution_count": 1,
   "id": "initial_id",
   "metadata": {
    "collapsed": true,
    "ExecuteTime": {
     "end_time": "2023-12-30T08:46:07.121605100Z",
     "start_time": "2023-12-30T08:46:07.093183Z"
    }
   },
   "outputs": [],
   "source": [
    "from pocketsphinx import LiveSpeech"
   ]
  },
  {
   "cell_type": "code",
   "outputs": [],
   "source": [
    "# Configurações\n",
    "verbose = True\n",
    "logfn = 'log/pocketsphinx.log'\n",
    "audio_file = 'data/novo.wav'\n",
    "audio_device = 1\n",
    "sampling_rate = 16000\n",
    "buffer_size = 2048\n",
    "no_search = True\n",
    "full_utt = True\n",
    "hmm = 'voice/model'\n",
    "lm = 'voice/model.lm.bin'\n",
    "dic = 'voice/model.dict'"
   ],
   "metadata": {
    "collapsed": false,
    "ExecuteTime": {
     "end_time": "2023-12-30T08:46:07.121605100Z",
     "start_time": "2023-12-30T08:46:07.109307800Z"
    }
   },
   "id": "ac4bf1c064285c4f",
   "execution_count": 2
  },
  {
   "cell_type": "code",
   "outputs": [],
   "source": [
    "# Inicializa o objeto LiveSpeech\n",
    "ps = LiveSpeech(verbose=verbose, logfn=logfn)"
   ],
   "metadata": {
    "collapsed": false,
    "ExecuteTime": {
     "end_time": "2023-12-30T08:46:08.123742Z",
     "start_time": "2023-12-30T08:46:07.114606Z"
    }
   },
   "id": "a01574e2b7e725ee",
   "execution_count": 3
  },
  {
   "cell_type": "code",
   "outputs": [
    {
     "name": "stdout",
     "output_type": "stream",
     "text": [
      "i do\n",
      "and up\n"
     ]
    }
   ],
   "source": [
    "for phrase in ps.decode(audio_file, audio_device, sampling_rate, buffer_size, ):\n",
    "    print(phrase)"
   ],
   "metadata": {
    "collapsed": false,
    "ExecuteTime": {
     "end_time": "2023-12-30T08:46:58.284363100Z",
     "start_time": "2023-12-30T08:46:08.126539500Z"
    }
   },
   "id": "a2c6d72f325f488a",
   "execution_count": 4
  }
 ],
 "metadata": {
  "kernelspec": {
   "display_name": "Python 3",
   "language": "python",
   "name": "python3"
  },
  "language_info": {
   "codemirror_mode": {
    "name": "ipython",
    "version": 2
   },
   "file_extension": ".py",
   "mimetype": "text/x-python",
   "name": "python",
   "nbconvert_exporter": "python",
   "pygments_lexer": "ipython2",
   "version": "2.7.6"
  }
 },
 "nbformat": 4,
 "nbformat_minor": 5
}
